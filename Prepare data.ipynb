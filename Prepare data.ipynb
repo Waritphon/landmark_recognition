{
 "cells": [
  {
   "cell_type": "markdown",
   "metadata": {},
   "source": [
    "# Function Download\n",
    "filename = Directory +\"/\"+ filename+\".jpg\" #อันนี้รองรับการสร้าง Folder แล้วยัดไปเรื่อยๆ \n",
    "ระวังเรื่องการใช้งาน Directory นะ"
   ]
  },
  {
   "cell_type": "code",
   "execution_count": 101,
   "metadata": {},
   "outputs": [],
   "source": [
    "#!/usr/bin/python\n",
    "\n",
    "# Note to Kagglers: This script will not run directly in Kaggle kernels. You\n",
    "# need to download it and run it on your local machine.\n",
    "\n",
    "# Downloads images from the Google Landmarks dataset using multiple threads.\n",
    "# Images that already exist will not be downloaded again, so the script can\n",
    "# resume a partially completed download. All images will be saved in the JPG\n",
    "# format with 90% compression quality.\n",
    "\n",
    "import sys, os, multiprocessing, csv\n",
    "from PIL import Image\n",
    "from io import BytesIO\n",
    "from urllib.request import urlopen\n",
    "import time\n",
    "import os\n",
    "\n",
    "def ParseData(data_file):\n",
    "    csvfile = open(data_file, 'r')\n",
    "    csvreader = csv.reader(csvfile)\n",
    "    key_url_list = [line[:3] for line in csvreader]\n",
    "    return key_url_list[1:]  # Chop off header\n",
    "\n",
    "import urllib.request\n",
    "\n",
    "def download_image(url,filename,Directory):\n",
    "#*************************************** ระวังผิด directory นะ set ก่อนด้วย ****************************\n",
    "        filename = Directory +\"/\"+ filename+\".jpg\" #อันนี้รองรับการสร้าง Folder แล้วยัดไปเรื่อยๆ\n",
    "#*************************************** ระวังผิด directory นะ set ก่อนด้วย ****************************\n",
    "        if os.path.exists(filename):\n",
    "            print('Image %s already exists. Skipping download.' % filename)\n",
    "            return\n",
    "        try:\n",
    "            response = urlopen(url)\n",
    "            image_data = response.read()\n",
    "        except:\n",
    "            print('Warning: Could not download image %s from %s' % (key, url))\n",
    "            return\n",
    "        try:\n",
    "            pil_image = Image.open(BytesIO(image_data))\n",
    "        except:\n",
    "            print('Warning: Failed to parse image %s' % key)\n",
    "            return\n",
    "        urllib.request.urlretrieve(url,filename)     \n",
    "\n",
    "\n",
    "\n"
   ]
  },
  {
   "cell_type": "markdown",
   "metadata": {},
   "source": [
    "# Create downloadable file\n",
    "fomat data เป็น Csv. 3 colurm จะเป็นผมให้มันเป็น แรก 3 line ในคำสั่ง ParseData(path)"
   ]
  },
  {
   "cell_type": "code",
   "execution_count": 89,
   "metadata": {},
   "outputs": [],
   "source": [
    "csv_download = ParseData('landmark_recognition-master/data/data.csv')"
   ]
  },
  {
   "cell_type": "code",
   "execution_count": 90,
   "metadata": {},
   "outputs": [
    {
     "name": "stdout",
     "output_type": "stream",
     "text": [
      "['192931', 'york_river_state_park']\n"
     ]
    }
   ],
   "source": [
    "#Play safe for index_boundary tranform list to dict \n",
    "label_to_category = ParseData('landmark_recognition-master/data/label_to_category.csv')\n",
    "label_to_category_dict = {}\n",
    "\n",
    "for el_lable in  label_to_category :\n",
    "    label_to_category_dict[el_lable[2]] = [el_lable[0],el_lable[1]]\n",
    "print(label_to_category_dict[\"0\"])"
   ]
  },
  {
   "cell_type": "markdown",
   "metadata": {},
   "source": [
    "# To Do 1 \n",
    "\n",
    "แปลงเป็น Function ที่สามารถเรียกค่า ของ Directory และจัดการไฟล์"
   ]
  },
  {
   "cell_type": "code",
   "execution_count": 116,
   "metadata": {},
   "outputs": [
    {
     "name": "stdout",
     "output_type": "stream",
     "text": [
      "9.993585109710693\n"
     ]
    }
   ],
   "source": [
    "#Download data Sample\n",
    "start_time = time.time()\n",
    "#*************************************** ระวังผิด directory นะ set ก่อนด้วย ****************************\n",
    "base_directory = \"D:/\" #Use disc directory\n",
    "#*************************************** ระวังผิด directory นะ set ก่อนด้วย ****************************\n",
    "temp_dir = 0 \n",
    "directory = label_to_category_dict[str(temp_dir)][1] # label_to_category_dict[str(temp_dir)][1] จะเรียก ชื่อ Landmark จาก Dict มา\n",
    "\n",
    "itera_index = 10 #ทำการวนตามรูปตาม index ขอให้ชื่อ itera_index\n",
    "\n",
    "for i in range(itera_index):\n",
    "    if os.path.exists(base_directory + directory): #ใส่รูปไปเรื่อยๆ จนกว่าจะไปเจอ Directory \n",
    "        #print('Image %s already exists. Skipping download.' % base_directory + directory)\n",
    "        download_image(csv_download[i][1],csv_download[i][0],base_directory+ directory)\n",
    "    else : \n",
    "        os.makedirs(base_directory + directory) #เมื่อต้องสร้างไฟล์ใหม่ ต้องมีการใส่รูป\n",
    "        download_image(csv_download[i][1],csv_download[i][0],base_directory+ directory)\n",
    "        \n",
    "    if i == itera_index-1 : #วนไปเรื่อยๆ มองว่ามันเป็นแบบถ้าถึงค่านึงที่  Labelคนละอันก็สลับ ดูตาม os.path.exists(base_directory + directory)\n",
    "        temp_dir += 1\n",
    "        directory = label_to_category_dict[str(temp_dir)][1]\n",
    "    elif (csv_download[i][2] != csv_download[i+1][2]) :\n",
    "        temp_dir += 1\n",
    "        directory = label_to_category_dict[str(temp_dir)][1]\n",
    "        \n",
    "end_time = time.time()\n",
    "print(end_time-start_time)"
   ]
  },
  {
   "cell_type": "markdown",
   "metadata": {},
   "source": [
    "# Test Case 1 \n",
    "ตัวของข้อมูลนั้นทุกตัวคือคนละ Class \n",
    "Expect ต้องแยกได้ 7 Folder"
   ]
  },
  {
   "cell_type": "markdown",
   "metadata": {},
   "source": [
    "# https://stackoverflow.com/questions/273192/how-can-i-safely-create-a-nested-directory"
   ]
  },
  {
   "cell_type": "code",
   "execution_count": 110,
   "metadata": {
    "scrolled": false
   },
   "outputs": [
    {
     "name": "stdout",
     "output_type": "stream",
     "text": [
      "2626 https://upload.wikimedia.org/wikipedia/commons/c/cf/YR_Estuaries_Day_2015_%2820226742864%29.jpg 0 \n",
      "\n",
      "3463 http://upload.wikimedia.org/wikipedia/commons/b/bc/Cyrtanthus_mackenii3.jpg 1 \n",
      "\n",
      "4007 https://upload.wikimedia.org/wikipedia/commons/9/98/Saif_ul_Mulook.jpg 2 \n",
      "\n",
      "5054 https://upload.wikimedia.org/wikipedia/commons/a/a4/%40ibneAzhar-Heritage_Museum_-Islamabad-Pakistan_%2834%29.JPG 3 \n",
      "\n",
      "5730 https://upload.wikimedia.org/wikipedia/commons/5/55/Lake_Como%2C_Wikimania_2016%2C_MP_019.jpg 4 \n",
      "\n",
      "7080 https://upload.wikimedia.org/wikipedia/commons/7/71/Mount_Rainier_National_Park_%289287685657%29.jpg 5 \n",
      "\n",
      "7594 https://upload.wikimedia.org/wikipedia/commons/5/54/Rohtas_trip.jpg 6 \n",
      "\n"
     ]
    }
   ],
   "source": [
    "#Split data \n",
    "# Test Case 1 \n",
    "#ตัวของข้อมูลนั้นทุกตัวคือคนละ Class \n",
    "#Expect ต้องแยกได้ 7 Folder\n",
    "\n",
    "l = [] #L คือ List ของภาพที่เป็นคนละ Class\n",
    "for i in range(10000) :  # Loop นี้จะแยกและหาตำแหน่ง สุดท้าย ของ Class แต่ละ Class\n",
    "    if i == 9999 :\n",
    "        break\n",
    "    if (csv_download[i][2] != csv_download[i+1][2]) :\n",
    "        #print(i)\n",
    "        l.append(csv_download[i])\n",
    "for j in l : \n",
    "    print(*j,\"\\n\")"
   ]
  },
  {
   "cell_type": "code",
   "execution_count": 111,
   "metadata": {},
   "outputs": [
    {
     "name": "stdout",
     "output_type": "stream",
     "text": [
      "6.829430341720581\n"
     ]
    }
   ],
   "source": [
    "#Download data\n",
    "#อันนี้จะทำการ 7 Folder ที่มีรูปคนละรูป ในแต่ละ Folder มี 1 รูป\n",
    "start_time = time.time()\n",
    "#*************************************** ระวังผิด directory นะ set ก่อนด้วย ****************************\n",
    "base_directory = \"D:/\" #Use disc directory\n",
    "#*************************************** ระวังผิด directory นะ set ก่อนด้วย ****************************\n",
    "temp_dir = 0 \n",
    "directory = label_to_category_dict[str(temp_dir)][1] # label_to_category_dict[str(temp_dir)][1] จะเรียก ชื่อ Landmark จาก Dict มา\n",
    "for i in range(len(l)):\n",
    "    if os.path.exists(base_directory + directory):\n",
    "        #print('Image %s already exists. Skipping download.' % base_directory + directory)\n",
    "        download_image(l[i][1],l[i][0],base_directory+ directory)\n",
    "    else : \n",
    "        os.makedirs(base_directory + directory)\n",
    "        download_image(l[i][1],l[i][0],base_directory+ directory)\n",
    "    if i == len(l)-1 :\n",
    "        temp_dir += 1\n",
    "        directory = label_to_category_dict[str(temp_dir)][1]\n",
    "    elif (l[i][2] != l[i+1][2]) :\n",
    "        temp_dir += 1\n",
    "        directory = label_to_category_dict[str(temp_dir)][1]\n",
    "        \n",
    "    \n",
    "    \n",
    "end_time = time.time()\n",
    "print(end_time-start_time)"
   ]
  }
 ],
 "metadata": {
  "kernelspec": {
   "display_name": "Python 3",
   "language": "python",
   "name": "python3"
  },
  "language_info": {
   "codemirror_mode": {
    "name": "ipython",
    "version": 3
   },
   "file_extension": ".py",
   "mimetype": "text/x-python",
   "name": "python",
   "nbconvert_exporter": "python",
   "pygments_lexer": "ipython3",
   "version": "3.7.3"
  }
 },
 "nbformat": 4,
 "nbformat_minor": 2
}
